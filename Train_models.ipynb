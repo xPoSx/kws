{
  "nbformat": 4,
  "nbformat_minor": 0,
  "metadata": {
    "kernelspec": {
      "display_name": "Python 3",
      "language": "python",
      "name": "python3"
    },
    "language_info": {
      "codemirror_mode": {
        "name": "ipython",
        "version": 2
      },
      "file_extension": ".py",
      "mimetype": "text/x-python",
      "name": "python",
      "nbconvert_exporter": "python",
      "pygments_lexer": "ipython2",
      "version": "2.7.6"
    },
    "colab": {
      "name": "Train_models.ipynb",
      "provenance": [],
      "collapsed_sections": []
    },
    "accelerator": "GPU"
  },
  "cells": [
    {
      "cell_type": "code",
      "metadata": {
        "id": "FyUBDNMbCZ2-"
      },
      "source": [
        "from typing import Tuple, Union, List, Callable, Optional\n",
        "from tqdm import tqdm\n",
        "from itertools import islice\n",
        "import pathlib\n",
        "import dataclasses\n",
        "\n",
        "import numpy as np\n",
        "import pandas as pd\n",
        "\n",
        "import torch\n",
        "import torch.nn.functional as F\n",
        "from torch import nn\n",
        "from torch import distributions\n",
        "from torch.utils.data import DataLoader, Dataset, WeightedRandomSampler\n",
        "from torch.nn.utils.rnn import pad_sequence\n",
        "\n",
        "import torchaudio\n",
        "from IPython import display as display_"
      ],
      "execution_count": 1,
      "outputs": []
    },
    {
      "cell_type": "code",
      "metadata": {
        "id": "gAcU3XIcCw6Q"
      },
      "source": [
        "from src.augmentations import AugsCreation\n",
        "from src.baseline_config import TaskConfig\n",
        "from src.baseline_model import CRNN\n",
        "from src.collator import Collator\n",
        "from src.dataset import SpeechCommandDataset\n",
        "from src.dkd_config import DistillationTaskConfig\n",
        "from src.logmelspec import LogMelspec\n",
        "from src.trainers import train_epoch, train_epoch_distillation, validation\n",
        "from src.utils import get_sampler, count_FA_FR, get_au_fa_fr"
      ],
      "execution_count": null,
      "outputs": []
    },
    {
      "cell_type": "code",
      "metadata": {
        "colab": {
          "base_uri": "https://localhost:8080/"
        },
        "id": "_87PddJRC2o2",
        "outputId": "82e4a6b7-2f8e-4c3b-b486-af53e7c93671"
      },
      "source": [
        "!wget http://download.tensorflow.org/data/speech_commands_v0.01.tar.gz -O speech_commands_v0.01.tar.gz\n",
        "!mkdir speech_commands && tar -C speech_commands -xvzf speech_commands_v0.01.tar.gz 1> log"
      ],
      "execution_count": null,
      "outputs": [
        {
          "output_type": "stream",
          "name": "stdout",
          "text": [
            "--2021-11-21 09:39:50--  http://download.tensorflow.org/data/speech_commands_v0.01.tar.gz\n",
            "Resolving download.tensorflow.org (download.tensorflow.org)... 74.125.142.128, 2607:f8b0:400e:c08::80\n",
            "Connecting to download.tensorflow.org (download.tensorflow.org)|74.125.142.128|:80... connected.\n",
            "HTTP request sent, awaiting response... 200 OK\n",
            "Length: 1489096277 (1.4G) [application/gzip]\n",
            "Saving to: ‘speech_commands_v0.01.tar.gz’\n",
            "\n",
            "speech_commands_v0. 100%[===================>]   1.39G   168MB/s    in 9.1s    \n",
            "\n",
            "2021-11-21 09:40:00 (156 MB/s) - ‘speech_commands_v0.01.tar.gz’ saved [1489096277/1489096277]\n",
            "\n"
          ]
        }
      ]
    },
    {
      "cell_type": "code",
      "metadata": {
        "colab": {
          "base_uri": "https://localhost:8080/",
          "height": 206
        },
        "id": "Y6Imvx8TFDch",
        "outputId": "6e3f7d34-2adb-4466-93b2-fdc76cdb2c98"
      },
      "source": [
        "dataset = SpeechCommandDataset(\n",
        "    path2dir='speech_commands', keywords=TaskConfig.keyword\n",
        ")\n",
        "dataset.csv.sample(5)"
      ],
      "execution_count": null,
      "outputs": [
        {
          "output_type": "execute_result",
          "data": {
            "text/html": [
              "<div>\n",
              "<style scoped>\n",
              "    .dataframe tbody tr th:only-of-type {\n",
              "        vertical-align: middle;\n",
              "    }\n",
              "\n",
              "    .dataframe tbody tr th {\n",
              "        vertical-align: top;\n",
              "    }\n",
              "\n",
              "    .dataframe thead th {\n",
              "        text-align: right;\n",
              "    }\n",
              "</style>\n",
              "<table border=\"1\" class=\"dataframe\">\n",
              "  <thead>\n",
              "    <tr style=\"text-align: right;\">\n",
              "      <th></th>\n",
              "      <th>path</th>\n",
              "      <th>keyword</th>\n",
              "      <th>label</th>\n",
              "    </tr>\n",
              "  </thead>\n",
              "  <tbody>\n",
              "    <tr>\n",
              "      <th>23065</th>\n",
              "      <td>speech_commands/on/6f2c6f7e_nohash_1.wav</td>\n",
              "      <td>on</td>\n",
              "      <td>0</td>\n",
              "    </tr>\n",
              "    <tr>\n",
              "      <th>31296</th>\n",
              "      <td>speech_commands/right/71e6ab20_nohash_0.wav</td>\n",
              "      <td>right</td>\n",
              "      <td>0</td>\n",
              "    </tr>\n",
              "    <tr>\n",
              "      <th>34874</th>\n",
              "      <td>speech_commands/two/b49caed3_nohash_0.wav</td>\n",
              "      <td>two</td>\n",
              "      <td>0</td>\n",
              "    </tr>\n",
              "    <tr>\n",
              "      <th>48563</th>\n",
              "      <td>speech_commands/tree/efa16ffd_nohash_0.wav</td>\n",
              "      <td>tree</td>\n",
              "      <td>0</td>\n",
              "    </tr>\n",
              "    <tr>\n",
              "      <th>36092</th>\n",
              "      <td>speech_commands/two/300384f0_nohash_1.wav</td>\n",
              "      <td>two</td>\n",
              "      <td>0</td>\n",
              "    </tr>\n",
              "  </tbody>\n",
              "</table>\n",
              "</div>"
            ],
            "text/plain": [
              "                                              path keyword  label\n",
              "23065     speech_commands/on/6f2c6f7e_nohash_1.wav      on      0\n",
              "31296  speech_commands/right/71e6ab20_nohash_0.wav   right      0\n",
              "34874    speech_commands/two/b49caed3_nohash_0.wav     two      0\n",
              "48563   speech_commands/tree/efa16ffd_nohash_0.wav    tree      0\n",
              "36092    speech_commands/two/300384f0_nohash_1.wav     two      0"
            ]
          },
          "metadata": {},
          "execution_count": 9
        }
      ]
    },
    {
      "cell_type": "code",
      "metadata": {
        "id": "HhLtX8elFTQm"
      },
      "source": [
        "torch.manual_seed(42)\n",
        "use_gpu = torch.cuda.is_available()\n",
        "if use_gpu:\n",
        "    torch.cuda.manual_seed_all(42)\n",
        "\n",
        "indexes = torch.randperm(len(dataset))\n",
        "train_indexes = indexes[:int(len(dataset) * 0.8)]\n",
        "val_indexes = indexes[int(len(dataset) * 0.8):]\n",
        "\n",
        "train_df = dataset.csv.iloc[train_indexes].reset_index(drop=True)\n",
        "val_df = dataset.csv.iloc[val_indexes].reset_index(drop=True)\n",
        "\n",
        "# Sample is a dict of utt, word and label\n",
        "train_set = SpeechCommandDataset(csv=train_df, transform=AugsCreation())\n",
        "val_set = SpeechCommandDataset(csv=val_df)"
      ],
      "execution_count": null,
      "outputs": []
    },
    {
      "cell_type": "code",
      "metadata": {
        "id": "_CfueLeBFZ2p"
      },
      "source": [
        "train_sampler = get_sampler(train_set.csv['label'].values)\n",
        "# Here we are obliged to use shuffle=False because of our sampler with randomness inside.\n",
        "\n",
        "train_loader = DataLoader(train_set, batch_size=TaskConfig.batch_size,\n",
        "                          shuffle=False, collate_fn=Collator(),\n",
        "                          sampler=train_sampler,\n",
        "                          num_workers=2, pin_memory=True)\n",
        "\n",
        "val_loader = DataLoader(val_set, batch_size=TaskConfig.batch_size,\n",
        "                        shuffle=False, collate_fn=Collator(),\n",
        "                        num_workers=2, pin_memory=True)"
      ],
      "execution_count": null,
      "outputs": []
    },
    {
      "cell_type": "code",
      "metadata": {
        "colab": {
          "base_uri": "https://localhost:8080/"
        },
        "id": "Ycfal6-gFdNz",
        "outputId": "12566647-8d57-4c2c-b219-5393ee41dc4f"
      },
      "source": [
        "melspec_train = LogMelspec(is_train=True, config=TaskConfig)\n",
        "melspec_val = LogMelspec(is_train=False, config=TaskConfig)\n",
        "\n",
        "config = TaskConfig()\n",
        "model = CRNN(config)\n",
        "model"
      ],
      "execution_count": null,
      "outputs": [
        {
          "output_type": "execute_result",
          "data": {
            "text/plain": [
              "CRNN(\n",
              "  (conv): Sequential(\n",
              "    (0): Conv2d(1, 8, kernel_size=(5, 20), stride=(2, 8))\n",
              "    (1): Flatten(start_dim=1, end_dim=2)\n",
              "  )\n",
              "  (gru): GRU(144, 64, num_layers=2, batch_first=True, dropout=0.1)\n",
              "  (attention): Attention(\n",
              "    (energy): Sequential(\n",
              "      (0): Linear(in_features=64, out_features=64, bias=True)\n",
              "      (1): Tanh()\n",
              "      (2): Linear(in_features=64, out_features=1, bias=True)\n",
              "    )\n",
              "  )\n",
              "  (classifier): Linear(in_features=64, out_features=2, bias=True)\n",
              ")"
            ]
          },
          "metadata": {},
          "execution_count": 12
        }
      ]
    },
    {
      "cell_type": "code",
      "metadata": {
        "id": "7heYjYuYFlcL"
      },
      "source": [
        "from collections import defaultdict\n",
        "from IPython.display import clear_output\n",
        "from matplotlib import pyplot as plt\n",
        "\n",
        "history = defaultdict(list)"
      ],
      "execution_count": null,
      "outputs": []
    },
    {
      "cell_type": "code",
      "metadata": {
        "colab": {
          "base_uri": "https://localhost:8080/"
        },
        "id": "aQUepBqlFw2Z",
        "outputId": "cdb971dc-4f9b-4ca3-b94f-0b50afc34f52"
      },
      "source": [
        "# !pip install thop\n",
        "\n",
        "from thop import profile\n",
        "profile(CRNN(config).to(config.device), (torch.randn(128, 40, 101).to(config.device), ))"
      ],
      "execution_count": null,
      "outputs": [
        {
          "output_type": "stream",
          "name": "stdout",
          "text": [
            "Requirement already satisfied: thop in /usr/local/lib/python3.7/dist-packages (0.0.31.post2005241907)\n",
            "Requirement already satisfied: torch>=1.0.0 in /usr/local/lib/python3.7/dist-packages (from thop) (1.10.0+cu111)\n",
            "Requirement already satisfied: typing-extensions in /usr/local/lib/python3.7/dist-packages (from torch>=1.0.0->thop) (3.10.0.2)\n",
            "[INFO] Register count_convNd() for <class 'torch.nn.modules.conv.Conv2d'>.\n",
            "\u001b[91m[WARN] Cannot find rule for <class 'torch.nn.modules.flatten.Flatten'>. Treat it as zero Macs and zero Params.\u001b[00m\n",
            "\u001b[91m[WARN] Cannot find rule for <class 'torch.nn.modules.container.Sequential'>. Treat it as zero Macs and zero Params.\u001b[00m\n",
            "[INFO] Register count_gru() for <class 'torch.nn.modules.rnn.GRU'>.\n",
            "[INFO] Register count_linear() for <class 'torch.nn.modules.linear.Linear'>.\n",
            "\u001b[91m[WARN] Cannot find rule for <class 'torch.nn.modules.activation.Tanh'>. Treat it as zero Macs and zero Params.\u001b[00m\n",
            "\u001b[91m[WARN] Cannot find rule for <class 'src.baseline_model.Attention'>. Treat it as zero Macs and zero Params.\u001b[00m\n",
            "\u001b[91m[WARN] Cannot find rule for <class 'src.baseline_model.CRNN'>. Treat it as zero Macs and zero Params.\u001b[00m\n"
          ]
        },
        {
          "output_type": "execute_result",
          "data": {
            "text/plain": [
              "(119527424.0, 70443.0)"
            ]
          },
          "metadata": {},
          "execution_count": 26
        }
      ]
    },
    {
      "cell_type": "code",
      "metadata": {
        "colab": {
          "base_uri": "https://localhost:8080/"
        },
        "id": "0hcXZwMIFzNt",
        "outputId": "5267d4f0-f0c8-4ec1-b97a-39f7e8d8a904"
      },
      "source": [
        "config = TaskConfig()\n",
        "model = CRNN(config).to(config.device)\n",
        "\n",
        "print(model)\n",
        "\n",
        "opt = torch.optim.Adam(\n",
        "    model.parameters(),\n",
        "    lr=config.learning_rate,\n",
        "    weight_decay=config.weight_decay\n",
        ")"
      ],
      "execution_count": null,
      "outputs": [
        {
          "output_type": "stream",
          "name": "stdout",
          "text": [
            "CRNN(\n",
            "  (conv): Sequential(\n",
            "    (0): Conv2d(1, 8, kernel_size=(5, 20), stride=(2, 8))\n",
            "    (1): Flatten(start_dim=1, end_dim=2)\n",
            "  )\n",
            "  (gru): GRU(144, 64, num_layers=2, batch_first=True, dropout=0.1)\n",
            "  (attention): Attention(\n",
            "    (energy): Sequential(\n",
            "      (0): Linear(in_features=64, out_features=64, bias=True)\n",
            "      (1): Tanh()\n",
            "      (2): Linear(in_features=64, out_features=1, bias=True)\n",
            "    )\n",
            "  )\n",
            "  (classifier): Linear(in_features=64, out_features=2, bias=True)\n",
            ")\n"
          ]
        }
      ]
    },
    {
      "cell_type": "code",
      "metadata": {
        "colab": {
          "base_uri": "https://localhost:8080/"
        },
        "id": "O2R-j6_EF4qe",
        "outputId": "1aa0c97f-52fe-47bb-87db-00c72ae6fee7"
      },
      "source": [
        "sum([p.numel() for p in model.parameters()])"
      ],
      "execution_count": null,
      "outputs": [
        {
          "output_type": "execute_result",
          "data": {
            "text/plain": [
              "70443"
            ]
          },
          "metadata": {},
          "execution_count": 16
        }
      ]
    },
    {
      "cell_type": "code",
      "metadata": {
        "colab": {
          "base_uri": "https://localhost:8080/",
          "height": 314
        },
        "id": "5FmKW57ZF6gz",
        "outputId": "d6acb43b-9250-4e61-b401-5afe03a0c8b1"
      },
      "source": [
        "# TRAIN\n",
        "\n",
        "for n in range(TaskConfig.num_epochs):\n",
        "\n",
        "    train_epoch(model, opt, train_loader,\n",
        "                melspec_train, config.device)\n",
        "\n",
        "    au_fa_fr = validation(model, val_loader,\n",
        "                          melspec_val, config.device)\n",
        "    history['val_metric'].append(au_fa_fr)\n",
        "\n",
        "    clear_output()\n",
        "    plt.plot(history['val_metric'])\n",
        "    plt.ylabel('Metric')\n",
        "    plt.xlabel('Epoch')\n",
        "    plt.grid()\n",
        "    plt.show()\n",
        "\n",
        "    print('CURRENT METRIC VALUE:', au_fa_fr)\n",
        "    print('END OF EPOCH', n)"
      ],
      "execution_count": null,
      "outputs": [
        {
          "output_type": "display_data",
          "data": {
            "image/png": "[encoded data removed]",
            "text/plain": [
              "<Figure size 432x288 with 1 Axes>"
            ]
          },
          "metadata": {
            "needs_background": "light"
          }
        },
        {
          "output_type": "stream",
          "name": "stdout",
          "text": [
            "CURRENT METRIC VALUE: 2.4126794870475127e-05\n",
            "END OF EPOCH 19\n"
          ]
        }
      ]
    },
    {
      "cell_type": "code",
      "metadata": {
        "colab": {
          "base_uri": "https://localhost:8080/"
        },
        "id": "HbqiV8D67huG",
        "outputId": "ead65d2e-9479-47a7-ce17-9726915f58d8"
      },
      "source": [
        "history"
      ],
      "execution_count": null,
      "outputs": [
        {
          "output_type": "execute_result",
          "data": {
            "text/plain": [
              "defaultdict(list,\n",
              "            {'val_metric': [0.0002729496588129265,\n",
              "              0.0001320021524944125,\n",
              "              8.712022713679603e-05,\n",
              "              6.77973080691239e-05,\n",
              "              4.115220811941541e-05,\n",
              "              4.003030917416452e-05,\n",
              "              3.404485895029943e-05,\n",
              "              3.1807028607378784e-05,\n",
              "              2.1274307126698944e-05,\n",
              "              2.7999733250623123e-05,\n",
              "              3.0876091184723794e-05,\n",
              "              2.3279403113955843e-05,\n",
              "              2.4807095294723005e-05,\n",
              "              1.545594823510526e-05,\n",
              "              1.9454205114456816e-05,\n",
              "              2.0056927420150112e-05,\n",
              "              2.0808838415371453e-05,\n",
              "              1.3767132269647814e-05,\n",
              "              1.660171737068063e-05,\n",
              "              2.4126794870475127e-05]})"
            ]
          },
          "metadata": {},
          "execution_count": 19
        }
      ]
    },
    {
      "cell_type": "code",
      "metadata": {
        "id": "SeTYy0bvGBG1"
      },
      "source": [
        "# !mkdir saved\n",
        "# torch.save(model.state_dict(), 'saved/teacher_model.pth')"
      ],
      "execution_count": null,
      "outputs": []
    },
    {
      "cell_type": "markdown",
      "metadata": {
        "id": "eVgPyt-9Lao3"
      },
      "source": [
        "## Dark Knowledge Distillation"
      ]
    },
    {
      "cell_type": "markdown",
      "metadata": {
        "id": "fxaCJL-0NSpx"
      },
      "source": [
        "### out channels 4, hidden_size 16"
      ]
    },
    {
      "cell_type": "code",
      "metadata": {
        "colab": {
          "base_uri": "https://localhost:8080/"
        },
        "id": "g516ddgbeFbJ",
        "outputId": "e110b9dc-a32b-4a8d-f491-b803cbd790d6"
      },
      "source": [
        "# model.load_state_dict(torch.load('saved/teacher_model.pth'))"
      ],
      "execution_count": null,
      "outputs": [
        {
          "output_type": "execute_result",
          "data": {
            "text/plain": [
              "<All keys matched successfully>"
            ]
          },
          "metadata": {},
          "execution_count": 69
        }
      ]
    },
    {
      "cell_type": "code",
      "metadata": {
        "id": "VZPcu4b4LY8I"
      },
      "source": [
        "torch.manual_seed(42)\n",
        "use_gpu = torch.cuda.is_available()\n",
        "if use_gpu:\n",
        "    torch.cuda.manual_seed_all(42)\n",
        "\n",
        "train_sampler = get_sampler(train_set.csv['label'].values)\n",
        "# Here we are obliged to use shuffle=False because of our sampler with randomness inside.\n",
        "\n",
        "train_loader = DataLoader(train_set, batch_size=64,\n",
        "                          shuffle=False, collate_fn=Collator(),\n",
        "                          sampler=train_sampler,\n",
        "                          num_workers=2, pin_memory=True)\n",
        "\n",
        "val_loader = DataLoader(val_set, batch_size=64,\n",
        "                        shuffle=False, collate_fn=Collator(),\n",
        "                        num_workers=2, pin_memory=True)\n",
        "\n",
        "dkd_config_4_16 = DistillationTaskConfig(batch_size=64, cnn_out_channels=4, kernel_size=(5, 20), stride=(2, 8), num_epochs=30, temperature=4, alpha=0.5)"
      ],
      "execution_count": null,
      "outputs": []
    },
    {
      "cell_type": "code",
      "metadata": {
        "colab": {
          "base_uri": "https://localhost:8080/"
        },
        "id": "a1qq54JPXulC",
        "outputId": "66f1fb3b-91a4-4718-d7e5-5ad6d16afc60"
      },
      "source": [
        "profile(CRNN(dkd_config_4_16).to(dkd_config_4_16.device), (torch.randn(128, 40, 101).to(dkd_config_4_16.device), ))"
      ],
      "execution_count": null,
      "outputs": [
        {
          "output_type": "stream",
          "name": "stdout",
          "text": [
            "[INFO] Register count_convNd() for <class 'torch.nn.modules.conv.Conv2d'>.\n",
            "\u001b[91m[WARN] Cannot find rule for <class 'torch.nn.modules.flatten.Flatten'>. Treat it as zero Macs and zero Params.\u001b[00m\n",
            "\u001b[91m[WARN] Cannot find rule for <class 'torch.nn.modules.container.Sequential'>. Treat it as zero Macs and zero Params.\u001b[00m\n",
            "[INFO] Register count_gru() for <class 'torch.nn.modules.rnn.GRU'>.\n",
            "[INFO] Register count_linear() for <class 'torch.nn.modules.linear.Linear'>.\n",
            "\u001b[91m[WARN] Cannot find rule for <class 'torch.nn.modules.activation.Tanh'>. Treat it as zero Macs and zero Params.\u001b[00m\n",
            "\u001b[91m[WARN] Cannot find rule for <class 'src.baseline_model.Attention'>. Treat it as zero Macs and zero Params.\u001b[00m\n",
            "\u001b[91m[WARN] Cannot find rule for <class 'src.baseline_model.CRNN'>. Treat it as zero Macs and zero Params.\u001b[00m\n"
          ]
        },
        {
          "output_type": "execute_result",
          "data": {
            "text/plain": [
              "(19321856.0, 6679.0)"
            ]
          },
          "metadata": {},
          "execution_count": 38
        }
      ]
    },
    {
      "cell_type": "code",
      "metadata": {
        "colab": {
          "base_uri": "https://localhost:8080/"
        },
        "id": "U19-Ix0JYGTU",
        "outputId": "b2c27b89-c106-4410-c4d2-8bc0f13fb0ad"
      },
      "source": [
        "model_dkd_4_16 = CRNN(dkd_config_4_16).to(dkd_config_4_16.device)\n",
        "\n",
        "opt = torch.optim.Adam(\n",
        "    model_dkd_4_16.parameters(),\n",
        "    lr=dkd_config_4_16.learning_rate,\n",
        "    weight_decay=dkd_config_4_16.weight_decay\n",
        ")\n",
        "\n",
        "sum([p.numel() for p in model_dkd_4_16.parameters()])"
      ],
      "execution_count": null,
      "outputs": [
        {
          "output_type": "execute_result",
          "data": {
            "text/plain": [
              "6679"
            ]
          },
          "metadata": {},
          "execution_count": 39
        }
      ]
    },
    {
      "cell_type": "code",
      "metadata": {
        "id": "XRhzBONsYLi4"
      },
      "source": [
        "scheduler = torch.optim.lr_scheduler.StepLR(opt, step_size=10, gamma=0.5)\n",
        "\n",
        "distill_melspec_train = LogMelspec(is_train=True, config=dkd_config_4_16)\n",
        "distill_melspec_val = LogMelspec(is_train=False, config=dkd_config_4_16)"
      ],
      "execution_count": null,
      "outputs": []
    },
    {
      "cell_type": "code",
      "metadata": {
        "colab": {
          "base_uri": "https://localhost:8080/",
          "height": 314
        },
        "id": "dx_F_g1WYb4e",
        "outputId": "115370b0-8fbb-44f1-a073-b136120e81c5"
      },
      "source": [
        "for n in range(dkd_config_4_16.num_epochs):\n",
        "\n",
        "    train_epoch_distillation(model, model_dkd_4_16, opt, train_loader,\n",
        "                distill_melspec_train, dkd_config_4_16.device, dkd_config_4_16.temperature, scheduler, dkd_config_4_16.alpha)\n",
        "\n",
        "    au_fa_fr = validation(model_dkd_4_16, val_loader,\n",
        "                          distill_melspec_val, dkd_config_4_16.device)\n",
        "    history['dkd_4_16_val_metric'].append(au_fa_fr)\n",
        "\n",
        "    clear_output()\n",
        "    plt.plot(history['val_metric'], label='base model')\n",
        "    plt.plot(history['dkd_4_16_val_metric'], label='dkd_4_16')\n",
        "    plt.ylabel('Metric')\n",
        "    plt.xlabel('Epoch')\n",
        "    plt.grid()\n",
        "    plt.legend()\n",
        "    plt.show()\n",
        "\n",
        "    print('CURRENT METRIC VALUE:', au_fa_fr)\n",
        "    print('END OF EPOCH', n)"
      ],
      "execution_count": null,
      "outputs": [
        {
          "output_type": "display_data",
          "data": {
            "image/png": "[encoded data removed]",
            "text/plain": [
              "<Figure size 432x288 with 1 Axes>"
            ]
          },
          "metadata": {
            "needs_background": "light"
          }
        },
        {
          "output_type": "stream",
          "name": "stdout",
          "text": [
            "CURRENT METRIC VALUE: 3.427162575838206e-05\n",
            "END OF EPOCH 29\n"
          ]
        }
      ]
    },
    {
      "cell_type": "code",
      "metadata": {
        "id": "VwIeXJA5aa72",
        "colab": {
          "base_uri": "https://localhost:8080/"
        },
        "outputId": "fde44085-d555-470b-dea1-10904433226e"
      },
      "source": [
        "history['dkd_4_16_val_metric']"
      ],
      "execution_count": null,
      "outputs": [
        {
          "output_type": "execute_result",
          "data": {
            "text/plain": [
              "[0.0013651570710739394,\n",
              " 0.0011250587616950878,\n",
              " 0.0008127322401681298,\n",
              " 0.0006991698096993833,\n",
              " 0.0006420394929315145,\n",
              " 0.00035678176723252445,\n",
              " 0.0003332934999532293,\n",
              " 0.0001866171479568385,\n",
              " 0.00015833097242232155,\n",
              " 0.00010735618098437979,\n",
              " 0.00010470957363215231,\n",
              " 9.131839686011516e-05,\n",
              " 8.106316634195748e-05,\n",
              " 7.480917647694191e-05,\n",
              " 6.39392885579287e-05,\n",
              " 5.693637147148236e-05,\n",
              " 5.7559980193709574e-05,\n",
              " 5.737200244490424e-05,\n",
              " 4.976337927897405e-05,\n",
              " 4.839681088289718e-05,\n",
              " 4.9602255494283753e-05,\n",
              " 4.687210247592057e-05,\n",
              " 4.433291098015327e-05,\n",
              " 4.4291138147085426e-05,\n",
              " 4.242627952798489e-05,\n",
              " 3.9666288771716096e-05,\n",
              " 4.187428137673114e-05,\n",
              " 4.242926330177546e-05,\n",
              " 3.930525214305823e-05,\n",
              " 3.427162575838206e-05]"
            ]
          },
          "metadata": {},
          "execution_count": 42
        }
      ]
    },
    {
      "cell_type": "code",
      "metadata": {
        "id": "mKscJm0Gbjxz"
      },
      "source": [
        "# torch.save(model_dkd_4_16.state_dict(), 'saved/student_dkd_4_16_model.pth')"
      ],
      "execution_count": null,
      "outputs": []
    },
    {
      "cell_type": "markdown",
      "metadata": {
        "id": "CbJyzLWRNbqx"
      },
      "source": [
        "### out channels 1, hidden size 32, gru layers 1"
      ]
    },
    {
      "cell_type": "code",
      "metadata": {
        "id": "eRfBtZjK7rZV"
      },
      "source": [
        "torch.manual_seed(42)\n",
        "use_gpu = torch.cuda.is_available()\n",
        "if use_gpu:\n",
        "    torch.cuda.manual_seed_all(42)\n",
        "\n",
        "train_sampler = get_sampler(train_set.csv['label'].values)\n",
        "# Here we are obliged to use shuffle=False because of our sampler with randomness inside.\n",
        "\n",
        "train_loader = DataLoader(train_set, batch_size=64,\n",
        "                          shuffle=False, collate_fn=Collator(),\n",
        "                          sampler=train_sampler,\n",
        "                          num_workers=2, pin_memory=True)\n",
        "\n",
        "val_loader = DataLoader(val_set, batch_size=64,\n",
        "                        shuffle=False, collate_fn=Collator(),\n",
        "                        num_workers=2, pin_memory=True)\n",
        "\n",
        "dkd_config_1_32_1 = DistillationTaskConfig(batch_size=64, cnn_out_channels=1, hidden_size=32, kernel_size=(5, 20), stride=(2, 8), num_epochs=20, gru_num_layers=1, temperature=5, alpha=0.2)"
      ],
      "execution_count": null,
      "outputs": []
    },
    {
      "cell_type": "code",
      "metadata": {
        "id": "LPJCvaPo79xI",
        "colab": {
          "base_uri": "https://localhost:8080/"
        },
        "outputId": "e1de36bc-3765-4c79-bf99-bd6e328ad419"
      },
      "source": [
        "profile(CRNN(dkd_config_1_32_1).to(dkd_config_1_32_1.device), (torch.randn(128, 40, 101).to(dkd_config_1_32_1.device), ))"
      ],
      "execution_count": null,
      "outputs": [
        {
          "output_type": "stream",
          "name": "stdout",
          "text": [
            "[INFO] Register count_convNd() for <class 'torch.nn.modules.conv.Conv2d'>.\n",
            "\u001b[91m[WARN] Cannot find rule for <class 'torch.nn.modules.flatten.Flatten'>. Treat it as zero Macs and zero Params.\u001b[00m\n",
            "\u001b[91m[WARN] Cannot find rule for <class 'torch.nn.modules.container.Sequential'>. Treat it as zero Macs and zero Params.\u001b[00m\n",
            "[INFO] Register count_gru() for <class 'torch.nn.modules.rnn.GRU'>.\n",
            "[INFO] Register count_linear() for <class 'torch.nn.modules.linear.Linear'>.\n",
            "\u001b[91m[WARN] Cannot find rule for <class 'torch.nn.modules.activation.Tanh'>. Treat it as zero Macs and zero Params.\u001b[00m\n",
            "\u001b[91m[WARN] Cannot find rule for <class 'src.baseline_model.Attention'>. Treat it as zero Macs and zero Params.\u001b[00m\n",
            "\u001b[91m[WARN] Cannot find rule for <class 'src.baseline_model.CRNN'>. Treat it as zero Macs and zero Params.\u001b[00m\n"
          ]
        },
        {
          "output_type": "stream",
          "name": "stderr",
          "text": [
            "/usr/local/lib/python3.7/dist-packages/torch/nn/modules/rnn.py:65: UserWarning: dropout option adds dropout after all but last recurrent layer, so non-zero dropout expects num_layers greater than 1, but got dropout=0.1 and num_layers=1\n",
            "  \"num_layers={}\".format(dropout, num_layers))\n"
          ]
        },
        {
          "output_type": "execute_result",
          "data": {
            "text/plain": [
              "(11398912.0, 6248.0)"
            ]
          },
          "metadata": {},
          "execution_count": 66
        }
      ]
    },
    {
      "cell_type": "code",
      "metadata": {
        "id": "b8Kq522n8DMP",
        "colab": {
          "base_uri": "https://localhost:8080/"
        },
        "outputId": "711fd968-4006-4ca1-d7a9-8c35e9e06574"
      },
      "source": [
        "model_dkd_1_32_1 = CRNN(dkd_config_1_32_1).to(dkd_config_1_32_1.device)\n",
        "\n",
        "opt = torch.optim.Adam(\n",
        "    model_dkd_1_32_1.parameters(),\n",
        "    lr=dkd_config_1_32_1.learning_rate,\n",
        "    weight_decay=dkd_config_1_32_1.weight_decay\n",
        ")\n",
        "\n",
        "sum([p.numel() for p in model_dkd_1_32_1.parameters()])"
      ],
      "execution_count": null,
      "outputs": [
        {
          "output_type": "stream",
          "name": "stderr",
          "text": [
            "/usr/local/lib/python3.7/dist-packages/torch/nn/modules/rnn.py:65: UserWarning: dropout option adds dropout after all but last recurrent layer, so non-zero dropout expects num_layers greater than 1, but got dropout=0.1 and num_layers=1\n",
            "  \"num_layers={}\".format(dropout, num_layers))\n"
          ]
        },
        {
          "output_type": "execute_result",
          "data": {
            "text/plain": [
              "6248"
            ]
          },
          "metadata": {},
          "execution_count": 67
        }
      ]
    },
    {
      "cell_type": "code",
      "metadata": {
        "id": "qyOcTh9D8UDe"
      },
      "source": [
        "scheduler = torch.optim.lr_scheduler.StepLR(opt, step_size=10, gamma=0.5)\n",
        "\n",
        "distill_melspec_train = LogMelspec(is_train=True, config=dkd_config_1_32_1)\n",
        "distill_melspec_val = LogMelspec(is_train=False, config=dkd_config_1_32_1)"
      ],
      "execution_count": null,
      "outputs": []
    },
    {
      "cell_type": "code",
      "metadata": {
        "id": "XBX71NUi8Y2_",
        "colab": {
          "base_uri": "https://localhost:8080/",
          "height": 314
        },
        "outputId": "86cfa1c4-0c67-4b19-c279-60bdd56c30a9"
      },
      "source": [
        "for n in range(dkd_config_1_32_1.num_epochs):\n",
        "\n",
        "    train_epoch_distillation(model, model_dkd_1_32_1, opt, train_loader,\n",
        "                distill_melspec_train, dkd_config_1_32_1.device, dkd_config_1_32_1.temperature, scheduler, dkd_config_1_32_1.alpha)\n",
        "\n",
        "    au_fa_fr = validation(model_dkd_1_32_1, val_loader,\n",
        "                          distill_melspec_val, dkd_config_1_32_1.device)\n",
        "    history['dkd_1_32_1_val_metric'].append(au_fa_fr)\n",
        "\n",
        "    clear_output()\n",
        "    plt.plot(history['val_metric'], label='base model')\n",
        "    plt.plot(history['dkd_4_16_val_metric'], label='dkd_4_16')\n",
        "    plt.plot(history['dkd_1_32_1_val_metric'], label='dkd_1_32_1')\n",
        "    plt.ylabel('Metric')\n",
        "    plt.xlabel('Epoch')\n",
        "    plt.grid()\n",
        "    plt.legend()\n",
        "    plt.show()\n",
        "\n",
        "    print('CURRENT METRIC VALUE:', au_fa_fr)\n",
        "    print('END OF EPOCH', n)"
      ],
      "execution_count": null,
      "outputs": [
        {
          "output_type": "display_data",
          "data": {
            "image/png": "[encoded data removed]",
            "text/plain": [
              "<Figure size 432x288 with 1 Axes>"
            ]
          },
          "metadata": {
            "needs_background": "light"
          }
        },
        {
          "output_type": "stream",
          "name": "stdout",
          "text": [
            "CURRENT METRIC VALUE: 3.40925993309484e-05\n",
            "END OF EPOCH 19\n"
          ]
        }
      ]
    },
    {
      "cell_type": "code",
      "metadata": {
        "id": "I0IM2U2hAVmR"
      },
      "source": [
        "# torch.save(model_dkd_1_32_1.state_dict(), 'saved/student_model_dkd_1_32_1.pth')"
      ],
      "execution_count": null,
      "outputs": []
    },
    {
      "cell_type": "code",
      "metadata": {
        "id": "UGK8WNRlbkfg"
      },
      "source": [
        ""
      ],
      "execution_count": null,
      "outputs": []
    }
  ]
}