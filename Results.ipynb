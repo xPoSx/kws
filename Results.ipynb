{
  "nbformat": 4,
  "nbformat_minor": 0,
  "metadata": {
    "colab": {
      "name": "Results.ipynb",
      "provenance": [],
      "collapsed_sections": []
    },
    "kernelspec": {
      "name": "python3",
      "display_name": "Python 3"
    },
    "language_info": {
      "name": "python"
    },
    "accelerator": "GPU"
  },
  "cells": [
    {
      "cell_type": "code",
      "metadata": {
        "colab": {
          "base_uri": "https://localhost:8080/"
        },
        "id": "3SMwBwRK7xjk",
        "outputId": "1a2aac9c-edbf-409d-e479-6aa4926e349b"
      },
      "source": [
        "# pip install -r requirements.txt -f https://download.pytorch.org/whl/cu111/torch_stable.html"
      ],
      "execution_count": 1,
      "outputs": [
        {
          "output_type": "stream",
          "name": "stdout",
          "text": [
            "Looking in links: https://download.pytorch.org/whl/cu111/torch_stable.html\n",
            "Requirement already satisfied: torch==1.10.0+cu111 in /usr/local/lib/python3.7/dist-packages (from -r requirements.txt (line 1)) (1.10.0+cu111)\n",
            "Requirement already satisfied: numpy~=1.20.2 in /usr/local/lib/python3.7/dist-packages (from -r requirements.txt (line 2)) (1.20.3)\n",
            "Requirement already satisfied: pandas~=1.3.1 in /usr/local/lib/python3.7/dist-packages (from -r requirements.txt (line 3)) (1.3.4)\n",
            "Requirement already satisfied: torchaudio==0.10.0+cu111 in /usr/local/lib/python3.7/dist-packages (from -r requirements.txt (line 4)) (0.10.0+cu111)\n",
            "Requirement already satisfied: tqdm in /usr/local/lib/python3.7/dist-packages (from -r requirements.txt (line 5)) (4.62.3)\n",
            "Requirement already satisfied: seaborn in /usr/local/lib/python3.7/dist-packages (from -r requirements.txt (line 6)) (0.11.2)\n",
            "Requirement already satisfied: matplotlib in /usr/local/lib/python3.7/dist-packages (from -r requirements.txt (line 7)) (3.2.2)\n",
            "Requirement already satisfied: thop in /usr/local/lib/python3.7/dist-packages (from -r requirements.txt (line 8)) (0.0.31.post2005241907)\n",
            "Requirement already satisfied: IPython in /usr/local/lib/python3.7/dist-packages (from -r requirements.txt (line 9)) (5.5.0)\n",
            "Requirement already satisfied: typing-extensions in /usr/local/lib/python3.7/dist-packages (from torch==1.10.0+cu111->-r requirements.txt (line 1)) (3.10.0.2)\n",
            "Requirement already satisfied: pytz>=2017.3 in /usr/local/lib/python3.7/dist-packages (from pandas~=1.3.1->-r requirements.txt (line 3)) (2018.9)\n",
            "Requirement already satisfied: python-dateutil>=2.7.3 in /usr/local/lib/python3.7/dist-packages (from pandas~=1.3.1->-r requirements.txt (line 3)) (2.8.2)\n",
            "Requirement already satisfied: six>=1.5 in /usr/local/lib/python3.7/dist-packages (from python-dateutil>=2.7.3->pandas~=1.3.1->-r requirements.txt (line 3)) (1.15.0)\n",
            "Requirement already satisfied: scipy>=1.0 in /usr/local/lib/python3.7/dist-packages (from seaborn->-r requirements.txt (line 6)) (1.4.1)\n",
            "Requirement already satisfied: cycler>=0.10 in /usr/local/lib/python3.7/dist-packages (from matplotlib->-r requirements.txt (line 7)) (0.11.0)\n",
            "Requirement already satisfied: pyparsing!=2.0.4,!=2.1.2,!=2.1.6,>=2.0.1 in /usr/local/lib/python3.7/dist-packages (from matplotlib->-r requirements.txt (line 7)) (3.0.6)\n",
            "Requirement already satisfied: kiwisolver>=1.0.1 in /usr/local/lib/python3.7/dist-packages (from matplotlib->-r requirements.txt (line 7)) (1.3.2)\n",
            "Requirement already satisfied: pygments in /usr/local/lib/python3.7/dist-packages (from IPython->-r requirements.txt (line 9)) (2.6.1)\n",
            "Requirement already satisfied: prompt-toolkit<2.0.0,>=1.0.4 in /usr/local/lib/python3.7/dist-packages (from IPython->-r requirements.txt (line 9)) (1.0.18)\n",
            "Requirement already satisfied: pexpect in /usr/local/lib/python3.7/dist-packages (from IPython->-r requirements.txt (line 9)) (4.8.0)\n",
            "Requirement already satisfied: setuptools>=18.5 in /usr/local/lib/python3.7/dist-packages (from IPython->-r requirements.txt (line 9)) (57.4.0)\n",
            "Requirement already satisfied: traitlets>=4.2 in /usr/local/lib/python3.7/dist-packages (from IPython->-r requirements.txt (line 9)) (5.1.1)\n",
            "Requirement already satisfied: simplegeneric>0.8 in /usr/local/lib/python3.7/dist-packages (from IPython->-r requirements.txt (line 9)) (0.8.1)\n",
            "Requirement already satisfied: decorator in /usr/local/lib/python3.7/dist-packages (from IPython->-r requirements.txt (line 9)) (4.4.2)\n",
            "Requirement already satisfied: pickleshare in /usr/local/lib/python3.7/dist-packages (from IPython->-r requirements.txt (line 9)) (0.7.5)\n",
            "Requirement already satisfied: wcwidth in /usr/local/lib/python3.7/dist-packages (from prompt-toolkit<2.0.0,>=1.0.4->IPython->-r requirements.txt (line 9)) (0.2.5)\n",
            "Requirement already satisfied: ptyprocess>=0.5 in /usr/local/lib/python3.7/dist-packages (from pexpect->IPython->-r requirements.txt (line 9)) (0.7.0)\n"
          ]
        }
      ]
    },
    {
      "cell_type": "markdown",
      "metadata": {
        "id": "tfMN2CB2Ef0y"
      },
      "source": [
        "# Results"
      ]
    },
    {
      "cell_type": "code",
      "metadata": {
        "id": "HNzAFloJeRqS"
      },
      "source": [
        "from typing import Tuple, Union, List, Callable, Optional\n",
        "from tqdm import tqdm\n",
        "from itertools import islice\n",
        "import pathlib\n",
        "import dataclasses\n",
        "\n",
        "import numpy as np\n",
        "import pandas as pd\n",
        "\n",
        "import torch\n",
        "import torch.nn.functional as F\n",
        "from torch import nn\n",
        "from torch import distributions\n",
        "from torch.utils.data import DataLoader, Dataset, WeightedRandomSampler\n",
        "from torch.nn.utils.rnn import pad_sequence\n",
        "\n",
        "import torchaudio\n",
        "from IPython import display as display_\n",
        "from IPython.display import clear_output\n",
        "from matplotlib import pyplot as plt\n",
        "import seaborn as sns\n",
        "sns.set()"
      ],
      "execution_count": 2,
      "outputs": []
    },
    {
      "cell_type": "code",
      "metadata": {
        "id": "ncU9fvXDgOxk"
      },
      "source": [
        "from src.augmentations import AugsCreation\n",
        "from src.baseline_config import TaskConfig\n",
        "from src.baseline_model import CRNN\n",
        "from src.collator import Collator\n",
        "from src.dataset import SpeechCommandDataset\n",
        "from src.dkd_config import DistillationTaskConfig\n",
        "from src.logmelspec import LogMelspec\n",
        "from src.trainers import train_epoch, train_epoch_distillation, validation\n",
        "from src.utils import get_sampler, count_FA_FR, get_au_fa_fr"
      ],
      "execution_count": 3,
      "outputs": []
    },
    {
      "cell_type": "code",
      "metadata": {
        "colab": {
          "base_uri": "https://localhost:8080/"
        },
        "id": "xczfFrUagQJC",
        "outputId": "efeb528a-7241-44e4-fbf8-40849f1059a3"
      },
      "source": [
        "!wget http://download.tensorflow.org/data/speech_commands_v0.01.tar.gz -O speech_commands_v0.01.tar.gz\n",
        "!mkdir speech_commands && tar -C speech_commands -xvzf speech_commands_v0.01.tar.gz 1> log"
      ],
      "execution_count": 4,
      "outputs": [
        {
          "output_type": "stream",
          "name": "stdout",
          "text": [
            "--2021-11-22 13:59:41--  http://download.tensorflow.org/data/speech_commands_v0.01.tar.gz\n",
            "Resolving download.tensorflow.org (download.tensorflow.org)... 74.125.142.128, 2607:f8b0:400e:c08::80\n",
            "Connecting to download.tensorflow.org (download.tensorflow.org)|74.125.142.128|:80... connected.\n",
            "HTTP request sent, awaiting response... 200 OK\n",
            "Length: 1489096277 (1.4G) [application/gzip]\n",
            "Saving to: ‘speech_commands_v0.01.tar.gz’\n",
            "\n",
            "speech_commands_v0. 100%[===================>]   1.39G   155MB/s    in 9.8s    \n",
            "\n",
            "2021-11-22 13:59:51 (146 MB/s) - ‘speech_commands_v0.01.tar.gz’ saved [1489096277/1489096277]\n",
            "\n"
          ]
        }
      ]
    },
    {
      "cell_type": "code",
      "metadata": {
        "id": "rEXvkkG_iMb7"
      },
      "source": [
        "dataset = SpeechCommandDataset(\n",
        "    path2dir='speech_commands', keywords=TaskConfig.keyword\n",
        ")\n",
        "\n",
        "torch.manual_seed(42)\n",
        "use_gpu = torch.cuda.is_available()\n",
        "if use_gpu:\n",
        "    torch.cuda.manual_seed_all(42)\n",
        "\n",
        "indexes = torch.randperm(len(dataset))\n",
        "train_indexes = indexes[:int(len(dataset) * 0.8)]\n",
        "val_indexes = indexes[int(len(dataset) * 0.8):]\n",
        "\n",
        "train_df = dataset.csv.iloc[train_indexes].reset_index(drop=True)\n",
        "val_df = dataset.csv.iloc[val_indexes].reset_index(drop=True)\n",
        "\n",
        "# Sample is a dict of utt, word and label\n",
        "train_set = SpeechCommandDataset(csv=train_df, transform=AugsCreation())\n",
        "val_set = SpeechCommandDataset(csv=val_df)"
      ],
      "execution_count": 5,
      "outputs": []
    },
    {
      "cell_type": "markdown",
      "metadata": {
        "id": "k3mdx9yo-eU7"
      },
      "source": [
        "## Distillation results"
      ]
    },
    {
      "cell_type": "markdown",
      "metadata": {
        "id": "3uADKfarEikz"
      },
      "source": [
        "Создал 2 модели с помощью дистилляции:\n",
        "1.   Отличается от базовой модели уменьшенным количеством выходных каналов в свертке (8 -> 4) и уменьшенным hidden_size у gru (64 -> 16)\n",
        "2.   По результатам первой было понятно, что можно уменьшить еще сильнее, но уже за счет уменьшения числа слоев gru (2 -> 1). Если оставить hidden_size 16, то модель просто будет плохой, поэтому увеличим его в 2 раза (16 -> 32), а число выходных каналов в свертке вообще можно сделать равным 1. За счет таких изменений можно также ускорить модель.\n",
        "\n",
        "\n"
      ]
    },
    {
      "cell_type": "code",
      "metadata": {
        "id": "O6fTQ61VgVdG"
      },
      "source": [
        "teacher= {'config': TaskConfig(), 'c_config': TaskConfig(device='cpu'), 'weights': 'saved/teacher_model.pth'}\n",
        "dkd_4_16 = {'config': DistillationTaskConfig(batch_size=64, cnn_out_channels=4, kernel_size=(5, 20), stride=(2, 8), num_epochs=30, temperature=4, alpha=0.5), 'c_config': DistillationTaskConfig(batch_size=64, cnn_out_channels=4, kernel_size=(5, 20), stride=(2, 8), num_epochs=30, temperature=4, alpha=0.5, device='cpu'),'weights': 'saved/student_dkd_4_16_model.pth'}\n",
        "dkd_1_32_1 = {'config': DistillationTaskConfig(batch_size=64, cnn_out_channels=1, hidden_size=32, kernel_size=(5, 20), stride=(2, 8), num_epochs=20, gru_num_layers=1, temperature=5, alpha=0.2), 'c_config': DistillationTaskConfig(batch_size=64, cnn_out_channels=1, hidden_size=32, kernel_size=(5, 20), stride=(2, 8), num_epochs=20, gru_num_layers=1, temperature=5, alpha=0.2, device='cpu'), 'weights': 'saved/student_model_dkd_1_32_1.pth'}"
      ],
      "execution_count": 6,
      "outputs": []
    },
    {
      "cell_type": "code",
      "metadata": {
        "colab": {
          "base_uri": "https://localhost:8080/"
        },
        "id": "dlOqZ0WtlTru",
        "outputId": "15560c89-4a08-43ce-ce2a-968ce5a373fb"
      },
      "source": [
        "for model in (teacher, dkd_4_16, dkd_1_32_1):\n",
        "    model['model'] = CRNN(model['config'])\n",
        "    model['model'].load_state_dict(torch.load(model['weights']))\n",
        "    model['model'].to(model['config'].device)"
      ],
      "execution_count": 7,
      "outputs": [
        {
          "output_type": "stream",
          "name": "stderr",
          "text": [
            "/usr/local/lib/python3.7/dist-packages/torch/nn/modules/rnn.py:65: UserWarning: dropout option adds dropout after all but last recurrent layer, so non-zero dropout expects num_layers greater than 1, but got dropout=0.1 and num_layers=1\n",
            "  \"num_layers={}\".format(dropout, num_layers))\n"
          ]
        }
      ]
    },
    {
      "cell_type": "code",
      "metadata": {
        "id": "lvKjub8umP5y"
      },
      "source": [
        "teacher['name'] = 'teacher'\n",
        "dkd_4_16['name'] = 'dkd_4_16'\n",
        "dkd_1_32_1['name'] = 'dk_1_32_1'"
      ],
      "execution_count": 8,
      "outputs": []
    },
    {
      "cell_type": "markdown",
      "metadata": {
        "id": "_0JxVPxDF3mI"
      },
      "source": [
        "`print_size_of_model` - функция из документации torch для правильного подсчета размера модели "
      ]
    },
    {
      "cell_type": "code",
      "metadata": {
        "id": "LC87umKZ2fcE"
      },
      "source": [
        "import os\n",
        "import thop\n",
        "\n",
        "def print_size_of_model(model, label=\"\"):\n",
        "    torch.save(model.state_dict(), \"temp.p\")\n",
        "    size=os.path.getsize(\"temp.p\")\n",
        "    print(\"model: \",label,' \\t','Size (KB):', size/1e3)\n",
        "    os.remove('temp.p')\n",
        "    return size"
      ],
      "execution_count": 9,
      "outputs": []
    },
    {
      "cell_type": "code",
      "metadata": {
        "colab": {
          "base_uri": "https://localhost:8080/"
        },
        "id": "lNVix5e5whFG",
        "outputId": "c064510f-6019-4176-d0d7-d8fc97135203"
      },
      "source": [
        "for model in (teacher, dkd_4_16, dkd_1_32_1):\n",
        "    torch.manual_seed(42)\n",
        "    use_gpu = torch.cuda.is_available()\n",
        "    if use_gpu:\n",
        "        torch.cuda.manual_seed_all(42)\n",
        "\n",
        "    val_loader = DataLoader(val_set, batch_size=model['config'].batch_size,\n",
        "                        shuffle=False, collate_fn=Collator(),\n",
        "                        num_workers=2, pin_memory=True)\n",
        "    \n",
        "    distill_melspec_val = LogMelspec(is_train=False, config=model['config'])\n",
        "    \n",
        "    au_fa_fr = validation(model['model'], val_loader,\n",
        "                          distill_melspec_val, model['config'].device)\n",
        "    \n",
        "    model['au_fa_fr'] = au_fa_fr\n",
        "    model['size'] = print_size_of_model(model['model'], model['name'])\n",
        "    model['macs'], _ = thop.profile(model['model'], (torch.randn(128, 40, 101).to(model['config'].device), ), verbose=False)\n",
        "    print(model['name'], 'au_fa_fr:', au_fa_fr, 'size:', model['size'], 'macs:', model['macs'])"
      ],
      "execution_count": 10,
      "outputs": [
        {
          "output_type": "stream",
          "name": "stderr",
          "text": [
            "102it [00:05, 18.43it/s]\n"
          ]
        },
        {
          "output_type": "stream",
          "name": "stdout",
          "text": [
            "model:  teacher  \t Size (KB): 285.195\n",
            "teacher au_fa_fr: 2.4126794870475127e-05 size: 285195 macs: 119527424.0\n"
          ]
        },
        {
          "output_type": "stream",
          "name": "stderr",
          "text": [
            "203it [00:05, 38.92it/s]\n"
          ]
        },
        {
          "output_type": "stream",
          "name": "stdout",
          "text": [
            "model:  dkd_4_16  \t Size (KB): 30.155\n",
            "dkd_4_16 au_fa_fr: 3.427162575838206e-05 size: 30155 macs: 19321856.0\n"
          ]
        },
        {
          "output_type": "stream",
          "name": "stderr",
          "text": [
            "203it [00:05, 38.97it/s]\n"
          ]
        },
        {
          "output_type": "stream",
          "name": "stdout",
          "text": [
            "model:  dk_1_32_1  \t Size (KB): 28.171\n",
            "dk_1_32_1 au_fa_fr: 3.40925993309484e-05 size: 28171 macs: 11398912.0\n"
          ]
        }
      ]
    },
    {
      "cell_type": "code",
      "metadata": {
        "colab": {
          "base_uri": "https://localhost:8080/"
        },
        "id": "TcinXCeUxyoH",
        "outputId": "16744eb2-a51c-4749-9b62-88fc826c6827"
      },
      "source": [
        "for model in (dkd_4_16, dkd_1_32_1):\n",
        "    print(model['name'], 'compression rate:', teacher['size'] / model['size'], 'speed up rate:', teacher['macs'] / model['macs'])"
      ],
      "execution_count": 11,
      "outputs": [
        {
          "output_type": "stream",
          "name": "stdout",
          "text": [
            "dkd_4_16 compression rate: 9.45763554966009 speed up rate: 6.186125390852721\n",
            "dk_1_32_1 compression rate: 10.123708778531114 speed up rate: 10.485862510386957\n"
          ]
        }
      ]
    },
    {
      "cell_type": "markdown",
      "metadata": {
        "id": "XUJmdAumGcwJ"
      },
      "source": [
        "Как видно, вторая конфигурация позволила сделать compression_rate и speed_up_rate большими 10. Если посмотреть в ноутбук с тренировкой, то можно заметить, что при старом подсчете веса модели (основаном на количестве весов), первая конфигурация также давала улучшение по памяти в 10 раз (~70000 -> ~6700 параметров), но недостаточно ускоряла модель.\n",
        "\n",
        "Значения метрики в допустимых пределах - все они меньше 5e-5\n",
        "\n",
        "Маки считал просто пропуская через модель батч размера 128 как при обучении/валидации, поэтому MACs принимает такие большие значения, но размер батча не влияет на отношение МАКов между моделями (MAC(batch_128) = 128*MAC(batch_1))"
      ]
    },
    {
      "cell_type": "code",
      "metadata": {
        "colab": {
          "base_uri": "https://localhost:8080/",
          "height": 464
        },
        "id": "Zp1ipY0fJn0L",
        "outputId": "4b636971-4a05-4428-aa53-9d613ad2900f"
      },
      "source": [
        "plt.figure(figsize=(7, 7))\n",
        "for model in (teacher, dkd_4_16, dkd_1_32_1):\n",
        "    plt.scatter([model['macs']], [model['au_fa_fr']], label = model['name'])\n",
        "plt.legend()\n",
        "plt.xlabel('MACs')\n",
        "plt.ylabel('au_fa_fr')\n",
        "plt.title('Metric / MACs')\n",
        "plt.show()"
      ],
      "execution_count": 13,
      "outputs": [
        {
          "output_type": "display_data",
          "data": {
            "image/png": "[encoded data removed]",
            "text/plain": [
              "<Figure size 504x504 with 1 Axes>"
            ]
          },
          "metadata": {}
        }
      ]
    },
    {
      "cell_type": "code",
      "metadata": {
        "colab": {
          "base_uri": "https://localhost:8080/",
          "height": 464
        },
        "id": "noLR-YMPKyju",
        "outputId": "067ac489-7dc4-4cc5-a044-095e3440f37d"
      },
      "source": [
        "plt.figure(figsize=(7, 7))\n",
        "for model in (teacher, dkd_4_16, dkd_1_32_1):\n",
        "    plt.scatter([model['size']], [model['au_fa_fr']], label = model['name'])\n",
        "plt.legend()\n",
        "plt.xlabel('memory')\n",
        "plt.ylabel('au_fa_fr')\n",
        "plt.title('Metric / memory')\n",
        "plt.show()"
      ],
      "execution_count": 14,
      "outputs": [
        {
          "output_type": "display_data",
          "data": {
            "image/png": "[encoded data removed]",
            "text/plain": [
              "<Figure size 504x504 with 1 Axes>"
            ]
          },
          "metadata": {}
        }
      ]
    },
    {
      "cell_type": "markdown",
      "metadata": {
        "id": "N5hqA6PlUZ-1"
      },
      "source": [
        "Графики, как требуется в условии"
      ]
    },
    {
      "cell_type": "markdown",
      "metadata": {
        "id": "mE3uHDV_Izil"
      },
      "source": [
        "## Quantization"
      ]
    },
    {
      "cell_type": "markdown",
      "metadata": {
        "id": "27Jg52omWUUk"
      },
      "source": [
        "Использовал qint8-динамическую квантизацию. Сразу скажу, что сравнения по производительности не проводилось в связи с невозможностью точно посчитать MACs для квантизированных слоев модели, поэтому считаем что после квантизации производительность не поменялась."
      ]
    },
    {
      "cell_type": "code",
      "metadata": {
        "colab": {
          "base_uri": "https://localhost:8080/"
        },
        "id": "iTEUfFlELbqq",
        "outputId": "cea4ab74-e4b8-4e65-a7cf-01f4a3aedd71"
      },
      "source": [
        "for model in (teacher, dkd_4_16, dkd_1_32_1):\n",
        "    model['qint8'] = torch.quantization.quantize_dynamic(model['model'].to('cpu'), {nn.Linear, nn.GRU}, dtype=torch.qint8)\n",
        "    torch.manual_seed(42)\n",
        "    use_gpu = torch.cuda.is_available()\n",
        "    if use_gpu:\n",
        "        torch.cuda.manual_seed_all(42)\n",
        "\n",
        "    val_loader = DataLoader(val_set, batch_size=model['config'].batch_size,\n",
        "                        shuffle=False, collate_fn=Collator(),\n",
        "                        num_workers=2, pin_memory=True)\n",
        "    \n",
        "    distill_melspec_val = LogMelspec(is_train=False, config=model['c_config'])\n",
        "\n",
        "    au_fa_fr = validation(model['qint8'], val_loader,\n",
        "                          distill_melspec_val, 'cpu')\n",
        "    \n",
        "    model['q_au_fa_fr'] = au_fa_fr\n",
        "    model['q_size'] = print_size_of_model(model['qint8'], model['name'])\n",
        "    print(model['name'], 'au_fa_fr:', au_fa_fr, 'size:', model['q_size'])"
      ],
      "execution_count": 15,
      "outputs": [
        {
          "output_type": "stream",
          "name": "stderr",
          "text": [
            "102it [00:09, 10.76it/s]\n"
          ]
        },
        {
          "output_type": "stream",
          "name": "stdout",
          "text": [
            "model:  teacher  \t Size (KB): 86.591\n",
            "teacher au_fa_fr: 2.4908543603602073e-05 size: 86591\n"
          ]
        },
        {
          "output_type": "stream",
          "name": "stderr",
          "text": [
            "203it [00:08, 22.87it/s]\n"
          ]
        },
        {
          "output_type": "stream",
          "name": "stdout",
          "text": [
            "model:  dkd_4_16  \t Size (KB): 19.711\n",
            "dkd_4_16 au_fa_fr: 3.58231881294737e-05 size: 19711\n"
          ]
        },
        {
          "output_type": "stream",
          "name": "stderr",
          "text": [
            "/usr/local/lib/python3.7/dist-packages/torch/nn/quantized/dynamic/modules/rnn.py:64: UserWarning: dropout option adds dropout after all but last recurrent layer, so non-zero dropout expects num_layers greater than 1, but got dropout=0.1 and num_layers=1\n",
            "  \"num_layers={}\".format(dropout, num_layers))\n",
            "203it [00:08, 23.23it/s]\n"
          ]
        },
        {
          "output_type": "stream",
          "name": "stdout",
          "text": [
            "model:  dk_1_32_1  \t Size (KB): 16.907\n",
            "dk_1_32_1 au_fa_fr: 3.355552004864745e-05 size: 16907\n"
          ]
        }
      ]
    },
    {
      "cell_type": "code",
      "metadata": {
        "colab": {
          "base_uri": "https://localhost:8080/"
        },
        "id": "AS3-CnVDQexZ",
        "outputId": "a485ed1b-4912-4170-d24a-e1610a2a4c0c"
      },
      "source": [
        "for model in (teacher, dkd_4_16, dkd_1_32_1):\n",
        "    print(model['name'], 'self compression rate:', model['size'] / model['q_size'])"
      ],
      "execution_count": 16,
      "outputs": [
        {
          "output_type": "stream",
          "name": "stdout",
          "text": [
            "teacher self compression rate: 3.2935870933468836\n",
            "dkd_4_16 self compression rate: 1.5298564253462534\n",
            "dk_1_32_1 self compression rate: 1.6662329212752114\n"
          ]
        }
      ]
    },
    {
      "cell_type": "code",
      "metadata": {
        "colab": {
          "base_uri": "https://localhost:8080/"
        },
        "id": "oZ-FOA4NO_L5",
        "outputId": "d98b271f-42de-4e8f-fcfc-24388c01a84a"
      },
      "source": [
        "for model in (teacher, dkd_4_16, dkd_1_32_1):\n",
        "    print(model['name'], 'compression rate:', teacher['size'] / model['q_size'])"
      ],
      "execution_count": 17,
      "outputs": [
        {
          "output_type": "stream",
          "name": "stdout",
          "text": [
            "teacher compression rate: 3.2935870933468836\n",
            "dkd_4_16 compression rate: 14.468824514230633\n",
            "dk_1_32_1 compression rate: 16.8684568521914\n"
          ]
        }
      ]
    },
    {
      "cell_type": "markdown",
      "metadata": {
        "id": "bdnVnmtaWwQ1"
      },
      "source": [
        "Видим что для базовой модели квантизация подействовала сильнее чем на дистиллированные модели, но в общем раскладе получили что с помощью квантизации получилось добиться улучшения по памяти в 16.868 раз относительно базовой модели. Метрики при этом также остались меньше 5e-5, а для наименьшей модели квантизация вообще улучшила итоговую метрику.\n",
        "\n",
        "График для сравнения ниже"
      ]
    },
    {
      "cell_type": "code",
      "metadata": {
        "colab": {
          "base_uri": "https://localhost:8080/",
          "height": 464
        },
        "id": "q4I7NTvsX5rJ",
        "outputId": "a5317090-3ff1-4d19-8df7-6bf878f920fb"
      },
      "source": [
        "plt.figure(figsize=(7, 7))\n",
        "for model in (teacher, dkd_4_16, dkd_1_32_1):\n",
        "    plt.plot([model['size'], model['q_size']], [model['au_fa_fr'], model['q_au_fa_fr']], c='grey')\n",
        "    plt.scatter([model['size']], [model['au_fa_fr']], label = model['name'], s=75)\n",
        "    plt.scatter([model['q_size']], [model['q_au_fa_fr']], label = 'quant_'+model['name'], s=75)\n",
        "plt.legend()\n",
        "plt.xlabel('memory')\n",
        "plt.ylabel('au_fa_fr')\n",
        "plt.title('Metric / memory')\n",
        "plt.show()"
      ],
      "execution_count": 18,
      "outputs": [
        {
          "output_type": "display_data",
          "data": {
            "image/png": "[encoded data removed]",
            "text/plain": [
              "<Figure size 504x504 with 1 Axes>"
            ]
          },
          "metadata": {}
        }
      ]
    },
    {
      "cell_type": "markdown",
      "metadata": {
        "id": "ESYvqCIS-YFa"
      },
      "source": [
        "## Streaming"
      ]
    },
    {
      "cell_type": "markdown",
      "metadata": {
        "id": "nZfUGUcVYL8c"
      },
      "source": [
        "Реализовал стриминг, за основу которого была взята базовая модель. Переписан forward для валидации модели - при тренировке он точно такой же как и раньше.\n",
        "\n",
        "`streaming_step_size` можно было сделать параметром модели, но тогда бы он заменял собой `config.stride[1]`, так как только в таком случае будет оптимальное количество сверток, поэтому я решил не делать его параметром и считать, что он равен `config.stride[1]`."
      ]
    },
    {
      "cell_type": "code",
      "metadata": {
        "id": "Dwqm5slIux0n"
      },
      "source": [
        "from src.streaming import StreamingCRNN"
      ],
      "execution_count": 21,
      "outputs": []
    },
    {
      "cell_type": "code",
      "metadata": {
        "id": "l9B1TP1vu8YS",
        "colab": {
          "base_uri": "https://localhost:8080/",
          "height": 285
        },
        "outputId": "13fa0b50-6f09-4b47-b127-9dfbc4503c06"
      },
      "source": [
        "stream = StreamingCRNN(50, TaskConfig).to('cuda')\n",
        "stream.load_state_dict(torch.load('saved/teacher_model.pth'))\n",
        "\n",
        "dataset.csv[dataset.csv['label'] == 1].sample(1)['path'].item()\n",
        "kw = dataset.csv[dataset.csv['label'] == 1].sample(1)['path'].item()\n",
        "not_kw = list(dataset.csv[dataset.csv['label'] == 0].sample(2)['path'])\n",
        "\n",
        "x = torch.cat([torchaudio.load(path)[0].squeeze() for path in (not_kw[0], kw, not_kw[1])])\n",
        "x = x.to('cuda')\n",
        "\n",
        "val_melspec = LogMelspec(is_train=False, config=TaskConfig)\n",
        "x = val_melspec(x)\n",
        "\n",
        "stream.eval()\n",
        "res = stream(x)\n",
        "all = []\n",
        "for elem in res:\n",
        "    tmp = F.softmax(elem, dim=-1).tolist()\n",
        "    for k in tmp:\n",
        "        all.append(k[1])\n",
        "plt.plot(all)"
      ],
      "execution_count": 28,
      "outputs": [
        {
          "output_type": "execute_result",
          "data": {
            "text/plain": [
              "[<matplotlib.lines.Line2D at 0x7f3690faf9d0>]"
            ]
          },
          "metadata": {},
          "execution_count": 28
        },
        {
          "output_type": "display_data",
          "data": {
            "image/png": "[encoded data removed]",
            "text/plain": [
              "<Figure size 432x288 with 1 Axes>"
            ]
          },
          "metadata": {}
        }
      ]
    },
    {
      "cell_type": "markdown",
      "metadata": {
        "id": "DtFSplW1eU9C"
      },
      "source": [
        "Поместил трек с keyword'ом между двумя случайными треками без него, получил вполне логичный результат - модель к середине итоговой дорожки дает предсказание keyword'а с вероятностью 1, а до и после ближе к 0, т.к. сначала не знает о существовании части с keyword'ом, а потом \"забывает\" об этом."
      ]
    },
    {
      "cell_type": "markdown",
      "metadata": {
        "id": "XpF1t71QfkdJ"
      },
      "source": [
        "# Итог"
      ]
    },
    {
      "cell_type": "code",
      "metadata": {
        "colab": {
          "base_uri": "https://localhost:8080/"
        },
        "id": "Yes9JZKFfljB",
        "outputId": "848034ad-a85e-44e7-a819-36fb0cda1a05"
      },
      "source": [
        "print(dkd_1_32_1['name'], 'compression rate:', teacher['size'] / dkd_1_32_1['q_size'], 'speed up rate:', teacher['macs'] / model['macs'])"
      ],
      "execution_count": 30,
      "outputs": [
        {
          "output_type": "stream",
          "name": "stdout",
          "text": [
            "dk_1_32_1 compression rate: 16.8684568521914 speed up rate: 10.485862510386957\n"
          ]
        }
      ]
    },
    {
      "cell_type": "markdown",
      "metadata": {
        "id": "CGeO2zfkf-S0"
      },
      "source": [
        "Есть Стриминг, а также 3 конфигурации: дистилляция (2 вида), квантизация qint8 и квантизация qint8 над дистилляциями"
      ]
    }
  ]
}